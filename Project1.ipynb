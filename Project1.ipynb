{
  "nbformat": 4,
  "nbformat_minor": 0,
  "metadata": {
    "colab": {
      "name": "Project1.ipynb",
      "provenance": [],
      "collapsed_sections": []
    },
    "kernelspec": {
      "name": "python3",
      "display_name": "Python 3"
    }
  },
  "cells": [
    {
      "cell_type": "markdown",
      "metadata": {
        "id": "gJTwTqQhyCFf",
        "colab_type": "text"
      },
      "source": [
        "Handwritten Digit Recognition using MNIST Dataset"
      ]
    },
    {
      "cell_type": "code",
      "metadata": {
        "id": "DUwPApxUxwxz",
        "colab_type": "code",
        "colab": {}
      },
      "source": [
        "import numpy as np\n",
        "import matplotlib.pyplot as plt\n",
        "from tensorflow.keras.datasets import mnist\n",
        "from tensorflow.keras.layers import Dense, Flatten, MaxPooling2D, Dropout, Convolution2D\n",
        "from tensorflow.keras.models import Sequential\n",
        "from tensorflow.keras.utils import to_categorical\n",
        "import cv2 as cv"
      ],
      "execution_count": 0,
      "outputs": []
    },
    {
      "cell_type": "code",
      "metadata": {
        "id": "sD6vMktayreY",
        "colab_type": "code",
        "colab": {}
      },
      "source": [
        "#load dataset\n",
        "(X_train, y_train), (X_test, y_test) = mnist.load_data()"
      ],
      "execution_count": 0,
      "outputs": []
    },
    {
      "cell_type": "code",
      "metadata": {
        "id": "EDblsDtLzQlh",
        "colab_type": "code",
        "outputId": "77fe1633-8ab8-4a6f-ebc5-74afa0b7ab9e",
        "colab": {
          "base_uri": "https://localhost:8080/",
          "height": 84
        }
      },
      "source": [
        "#checking out the shape of loaded dataset\n",
        "print (\"X_train:=====> {}\".format(X_train.shape))\n",
        "print (\"y_train:=====> {}\".format(y_train.shape))\n",
        "print (\"X_test: =====> {}\".format(X_test.shape))\n",
        "print (\"y_test: =====> {}\".format(y_test.shape))"
      ],
      "execution_count": 0,
      "outputs": [
        {
          "output_type": "stream",
          "text": [
            "X_train:=====> (60000, 28, 28)\n",
            "y_train:=====> (60000,)\n",
            "X_test: =====> (10000, 28, 28)\n",
            "y_test: =====> (10000,)\n"
          ],
          "name": "stdout"
        }
      ]
    },
    {
      "cell_type": "code",
      "metadata": {
        "id": "EO8WFzX8zgUU",
        "colab_type": "code",
        "colab": {}
      },
      "source": [
        "#reshape dataset for our model\n",
        "X_train = X_train.reshape(60000, 28, 28, 1)\n",
        "X_test = X_test.reshape(10000, 28, 28, 1)"
      ],
      "execution_count": 0,
      "outputs": []
    },
    {
      "cell_type": "code",
      "metadata": {
        "id": "r1xO5Pia0EUE",
        "colab_type": "code",
        "outputId": "f7c89eff-b63f-49f3-83f6-dba87b202ec8",
        "colab": {
          "base_uri": "https://localhost:8080/",
          "height": 84
        }
      },
      "source": [
        "\n",
        "print (\"X_train:=====> {}\".format(X_train.shape))\n",
        "print (\"y_train:=====> {}\".format(y_train.shape))\n",
        "print (\"X_test: =====> {}\".format(X_test.shape))\n",
        "\n",
        "print (\"y_test: =====> {}\".format(y_test.shape))"
      ],
      "execution_count": 0,
      "outputs": [
        {
          "output_type": "stream",
          "text": [
            "X_train:=====> (60000, 28, 28, 1)\n",
            "y_train:=====> (60000,)\n",
            "X_test: =====> (10000, 28, 28, 1)\n",
            "y_test: =====> (10000,)\n"
          ],
          "name": "stdout"
        }
      ]
    },
    {
      "cell_type": "code",
      "metadata": {
        "id": "OopNobJH0Mgh",
        "colab_type": "code",
        "colab": {}
      },
      "source": [
        "# one hot encoding\n",
        "y_train = to_categorical(y_train)\n",
        "y_test = to_categorical(y_test)"
      ],
      "execution_count": 0,
      "outputs": []
    },
    {
      "cell_type": "code",
      "metadata": {
        "id": "TgU1b0h_0rMv",
        "colab_type": "code",
        "colab": {}
      },
      "source": [
        "#load train and test dataset\n",
        "def load_dataset():\n",
        "  #load dataset\n",
        "  (X_train, y_train), (X_test, y_test) = mnist.load_data()\n",
        "  #reshape dataset for our model\n",
        "  X_train = X_train.reshape(60000, 28, 28, 1)\n",
        "  X_test = X_test.reshape(10000, 28, 28, 1)\n",
        "  # one hot encoding\n",
        "  y_train = to_categorical(y_train)\n",
        "  y_test = to_categorical(y_test)\n",
        "  return X_train, y_train, X_test, y_test"
      ],
      "execution_count": 0,
      "outputs": []
    },
    {
      "cell_type": "code",
      "metadata": {
        "id": "KL6LFdbf1hSj",
        "colab_type": "code",
        "colab": {}
      },
      "source": [
        "#scale pixels\n",
        "def prep_pixels(train, test):\n",
        "\t# convert from integers to floats\n",
        "\ttrain_norm = train.astype('float32')\n",
        "\ttest_norm = test.astype('float32')\n",
        "\t# normalize to range 0-1\n",
        "\ttrain_norm = train_norm / 255.0\n",
        "\ttest_norm = test_norm / 255.0\n",
        "\t# return normalized images\n",
        "\treturn train_norm, test_norm"
      ],
      "execution_count": 0,
      "outputs": []
    },
    {
      "cell_type": "markdown",
      "metadata": {
        "id": "X1Zh2xQv0e45",
        "colab_type": "text"
      },
      "source": [
        "Building a Model"
      ]
    },
    {
      "cell_type": "code",
      "metadata": {
        "id": "7GEeglY90eA2",
        "colab_type": "code",
        "colab": {}
      },
      "source": [
        "#define cnn model\n",
        "def define_model():\n",
        "  model = Sequential()\n",
        "  model.add(Convolution2D(64, kernel_size=3, activation='relu', input_shape=(28, 28, 1)))\n",
        "  model.add(MaxPooling2D(pool_size=2))\n",
        "  model.add(Convolution2D(32, kernel_size=3, activation='relu'))\n",
        "  model.add(MaxPooling2D(pool_size=2))\n",
        "  model.add(Dropout(0.5))\n",
        "  model.add(Flatten())\n",
        "  model.add(Dense(128, activation=\"relu\"))\n",
        "  model.add(Dropout(0.5))\n",
        "  model.add(Dense(10, activation='softmax'))\n",
        "\n",
        "  #compile model\n",
        "  model.compile(optimizer='adam', loss='categorical_crossentropy', metrics=['accuracy'])\n",
        "  return model"
      ],
      "execution_count": 0,
      "outputs": []
    },
    {
      "cell_type": "code",
      "metadata": {
        "id": "ROOk5t3u0Zmd",
        "colab_type": "code",
        "colab": {}
      },
      "source": [
        "# evaluate a model using k-fold cross-validation\n",
        "def evaluate_model(dataX, dataY, n_folds=5):\n",
        "\tscores, histories = list(), list()\n",
        "\t# prepare cross validation\n",
        "\tkfold = KFold(n_folds, shuffle=True, random_state=1)\n",
        "\t# enumerate splits\n",
        "\tfor train_ix, test_ix in kfold.split(dataX):\n",
        "\t\t# define model\n",
        "\t\tmodel = define_model()\n",
        "\t\t# select rows for train and test\n",
        "\t\tX_train, y_train, X_test, y_test = dataX[train_ix], dataY[train_ix], dataX[test_ix], dataY[test_ix]\n",
        "\t\t# fit model\n",
        "\t\thistory = model.fit(X_test, y_train, epochs=10, batch_size=32, validation_data=(X_test, y_test), verbose=0)\n",
        "\t\t# evaluate model\n",
        "\t\t_, acc = model.evaluate(X_test, y_test, verbose=0)\n",
        "\t\tprint('> %.3f' % (acc * 100.0))\n",
        "\t\t# stores scores\n",
        "\t\tscores.append(acc)\n",
        "\t\thistories.append(history)\n",
        "\treturn scores, histories"
      ],
      "execution_count": 0,
      "outputs": []
    },
    {
      "cell_type": "code",
      "metadata": {
        "id": "8id3ntaL3hHi",
        "colab_type": "code",
        "outputId": "69862635-6dc1-49a7-d42a-8984e0e9907e",
        "colab": {
          "base_uri": "https://localhost:8080/",
          "height": 370
        }
      },
      "source": [
        "# fit model\n",
        "model.fit(X_train, y_train, validation_data=(X_test, y_test), epochs=10)"
      ],
      "execution_count": 108,
      "outputs": [
        {
          "output_type": "stream",
          "text": [
            "Epoch 1/10\n",
            "1875/1875 [==============================] - 67s 36ms/step - loss: 0.1204 - accuracy: 0.9657 - val_loss: 0.0424 - val_accuracy: 0.9860\n",
            "Epoch 2/10\n",
            "1875/1875 [==============================] - 67s 36ms/step - loss: 0.1172 - accuracy: 0.9662 - val_loss: 0.0395 - val_accuracy: 0.9888\n",
            "Epoch 3/10\n",
            "1875/1875 [==============================] - 67s 36ms/step - loss: 0.1165 - accuracy: 0.9664 - val_loss: 0.0395 - val_accuracy: 0.9875\n",
            "Epoch 4/10\n",
            "1875/1875 [==============================] - 67s 36ms/step - loss: 0.1136 - accuracy: 0.9671 - val_loss: 0.0378 - val_accuracy: 0.9881\n",
            "Epoch 5/10\n",
            "1875/1875 [==============================] - 67s 36ms/step - loss: 0.1120 - accuracy: 0.9676 - val_loss: 0.0372 - val_accuracy: 0.9881\n",
            "Epoch 6/10\n",
            "1875/1875 [==============================] - 66s 35ms/step - loss: 0.1060 - accuracy: 0.9691 - val_loss: 0.0363 - val_accuracy: 0.9885\n",
            "Epoch 7/10\n",
            "1875/1875 [==============================] - 67s 36ms/step - loss: 0.1082 - accuracy: 0.9693 - val_loss: 0.0376 - val_accuracy: 0.9895\n",
            "Epoch 8/10\n",
            "1875/1875 [==============================] - 67s 36ms/step - loss: 0.1083 - accuracy: 0.9683 - val_loss: 0.0346 - val_accuracy: 0.9895\n",
            "Epoch 9/10\n",
            "1875/1875 [==============================] - 67s 36ms/step - loss: 0.1060 - accuracy: 0.9696 - val_loss: 0.0415 - val_accuracy: 0.9876\n",
            "Epoch 10/10\n",
            "1875/1875 [==============================] - 67s 36ms/step - loss: 0.1059 - accuracy: 0.9692 - val_loss: 0.0388 - val_accuracy: 0.9889\n"
          ],
          "name": "stdout"
        },
        {
          "output_type": "execute_result",
          "data": {
            "text/plain": [
              "<tensorflow.python.keras.callbacks.History at 0x7f55626d7eb8>"
            ]
          },
          "metadata": {
            "tags": []
          },
          "execution_count": 108
        }
      ]
    },
    {
      "cell_type": "code",
      "metadata": {
        "id": "4noLh9laTOTu",
        "colab_type": "code",
        "colab": {}
      },
      "source": [
        "model.save('final_model.h5') #save model"
      ],
      "execution_count": 0,
      "outputs": []
    },
    {
      "cell_type": "code",
      "metadata": {
        "id": "eZNWgRC8Pkfl",
        "colab_type": "code",
        "colab": {}
      },
      "source": [
        "def run_test_harness():\n",
        "  #load dataset\n",
        "  X_train, y_train, X_test, y_test = load_dataset()\n",
        "  #prepare pixel data\n",
        "  X_train, X_test = prep_pixels(X_train, X_test)\n",
        "  #define model\n",
        "  model = define_model()\n",
        "  #fit model\n",
        "  model.fit(X_train, y_train, validation_data=(X_test, y_test), epochs=10)\n",
        "  #save model\n",
        "  model.save('final_model.h5')"
      ],
      "execution_count": 0,
      "outputs": []
    },
    {
      "cell_type": "code",
      "metadata": {
        "id": "GuaxJFTVPlSF",
        "colab_type": "code",
        "colab": {
          "base_uri": "https://localhost:8080/",
          "height": 353
        },
        "outputId": "6c211ad5-322c-4555-81fa-ef7ebac848be"
      },
      "source": [
        "#entry point, run_test_harness\n",
        "run_test_harness()"
      ],
      "execution_count": 112,
      "outputs": [
        {
          "output_type": "stream",
          "text": [
            "Epoch 1/10\n",
            "1875/1875 [==============================] - 68s 37ms/step - loss: 0.2975 - accuracy: 0.9069 - val_loss: 0.0541 - val_accuracy: 0.9829\n",
            "Epoch 2/10\n",
            "1875/1875 [==============================] - 68s 36ms/step - loss: 0.1210 - accuracy: 0.9630 - val_loss: 0.0374 - val_accuracy: 0.9860\n",
            "Epoch 3/10\n",
            "1875/1875 [==============================] - 68s 36ms/step - loss: 0.0981 - accuracy: 0.9704 - val_loss: 0.0325 - val_accuracy: 0.9890\n",
            "Epoch 4/10\n",
            "1875/1875 [==============================] - 67s 36ms/step - loss: 0.0868 - accuracy: 0.9732 - val_loss: 0.0350 - val_accuracy: 0.9875\n",
            "Epoch 5/10\n",
            "1875/1875 [==============================] - 67s 36ms/step - loss: 0.0791 - accuracy: 0.9754 - val_loss: 0.0265 - val_accuracy: 0.9910\n",
            "Epoch 6/10\n",
            "1875/1875 [==============================] - 67s 36ms/step - loss: 0.0748 - accuracy: 0.9771 - val_loss: 0.0248 - val_accuracy: 0.9920\n",
            "Epoch 7/10\n",
            "1875/1875 [==============================] - 68s 36ms/step - loss: 0.0694 - accuracy: 0.9792 - val_loss: 0.0216 - val_accuracy: 0.9927\n",
            "Epoch 8/10\n",
            "1875/1875 [==============================] - 73s 39ms/step - loss: 0.0677 - accuracy: 0.9803 - val_loss: 0.0254 - val_accuracy: 0.9915\n",
            "Epoch 9/10\n",
            "1875/1875 [==============================] - 67s 36ms/step - loss: 0.0627 - accuracy: 0.9807 - val_loss: 0.0261 - val_accuracy: 0.9921\n",
            "Epoch 10/10\n",
            "1875/1875 [==============================] - 68s 36ms/step - loss: 0.0595 - accuracy: 0.9815 - val_loss: 0.0217 - val_accuracy: 0.9926\n"
          ],
          "name": "stdout"
        }
      ]
    },
    {
      "cell_type": "code",
      "metadata": {
        "id": "74C4_cShW-Kb",
        "colab_type": "code",
        "colab": {}
      },
      "source": [
        "# load and prepare the image\n",
        "from keras.preprocessing.image import load_img\n",
        "from keras.preprocessing.image import img_to_array\n",
        "from keras.models import load_model\n",
        "\n",
        "def load_image(filename):\n",
        "\t# load the image\n",
        "\timg = load_img(filename, grayscale=True, target_size=(28, 28))\n",
        "\t# convert to array\n",
        "\timg = img_to_array(img)\n",
        "\t# reshape into a single sample with 1 channel\n",
        "\timg = img.reshape(1, 28, 28, 1)\n",
        "\t# prepare pixel data\n",
        "\timg = img.astype('float32')\n",
        "\timg = img / 255.0\n",
        "\treturn img"
      ],
      "execution_count": 0,
      "outputs": []
    },
    {
      "cell_type": "code",
      "metadata": {
        "id": "6VN7G2TIXKNs",
        "colab_type": "code",
        "colab": {}
      },
      "source": [
        "# predict the class\n",
        "digit = model.predict_classes(img)"
      ],
      "execution_count": 0,
      "outputs": []
    },
    {
      "cell_type": "code",
      "metadata": {
        "id": "vedcCa9dXKmm",
        "colab_type": "code",
        "colab": {
          "base_uri": "https://localhost:8080/",
          "height": 70
        },
        "outputId": "cb4ba5be-2af4-43c4-b593-9af84b158274"
      },
      "source": [
        "img = load_image('49160.png')"
      ],
      "execution_count": 143,
      "outputs": [
        {
          "output_type": "stream",
          "text": [
            "/usr/local/lib/python3.6/dist-packages/keras_preprocessing/image/utils.py:107: UserWarning: grayscale is deprecated. Please use color_mode = \"grayscale\"\n",
            "  warnings.warn('grayscale is deprecated. Please use '\n"
          ],
          "name": "stderr"
        }
      ]
    },
    {
      "cell_type": "code",
      "metadata": {
        "id": "sviR0NmuY-uz",
        "colab_type": "code",
        "colab": {}
      },
      "source": [
        "import tensorflow as tf\n",
        "model = tf.keras.models.load_model('final_model.h5')"
      ],
      "execution_count": 0,
      "outputs": []
    },
    {
      "cell_type": "code",
      "metadata": {
        "id": "0aLvgs_pY-_e",
        "colab_type": "code",
        "colab": {}
      },
      "source": [
        "digit = model.predict_classes(img)"
      ],
      "execution_count": 0,
      "outputs": []
    },
    {
      "cell_type": "code",
      "metadata": {
        "id": "sIPx1P0-Y_NW",
        "colab_type": "code",
        "colab": {
          "base_uri": "https://localhost:8080/",
          "height": 34
        },
        "outputId": "5288965a-55c6-485b-8218-30ff0e02da2a"
      },
      "source": [
        "print(digit[0])"
      ],
      "execution_count": 146,
      "outputs": [
        {
          "output_type": "stream",
          "text": [
            "0\n"
          ],
          "name": "stdout"
        }
      ]
    }
  ]
}