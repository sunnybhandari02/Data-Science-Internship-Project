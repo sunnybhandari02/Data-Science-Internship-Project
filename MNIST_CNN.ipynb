{
  "nbformat": 4,
  "nbformat_minor": 0,
  "metadata": {
    "colab": {
      "name": "MNIST_CNN.ipynb",
      "provenance": [],
      "collapsed_sections": [],
      "mount_file_id": "177JsXGxwMhra9XgDqdvLy_L72uoD11ne",
      "authorship_tag": "ABX9TyPTwEOd7o+a7JCiI/OyqkMp",
      "include_colab_link": true
    },
    "kernelspec": {
      "name": "python3",
      "display_name": "Python 3"
    }
  },
  "cells": [
    {
      "cell_type": "markdown",
      "metadata": {
        "id": "view-in-github",
        "colab_type": "text"
      },
      "source": [
        "<a href=\"https://colab.research.google.com/github/sunnybhandari02/Data-Science-Internship-Project/blob/master/MNIST_CNN.ipynb\" target=\"_parent\"><img src=\"https://colab.research.google.com/assets/colab-badge.svg\" alt=\"Open In Colab\"/></a>"
      ]
    },
    {
      "cell_type": "markdown",
      "metadata": {
        "id": "GCXJ2XGMahLA",
        "colab_type": "text"
      },
      "source": [
        "# **Project :- Identify Yours Digit Dataset**\n",
        "\n",
        "### 1. Problem understanding, Data Import, EDA\n",
        "\n",
        "### Problem statement-\n",
        "we need to identify the digit in given images. We have total 70,000 images, out of which 49,000 are part of train images with the label of digit and rest 21,000 images are unlabeled (known as test images). Now, We need to identify the digit for test images.\n"
      ]
    },
    {
      "cell_type": "markdown",
      "metadata": {
        "id": "pWLdvjv_bZMd",
        "colab_type": "text"
      },
      "source": [
        "Project 6 - Group 2\n",
        "\n",
        "Members -\n",
        "\n",
        "1. Sunny Bhandari\n",
        "2. Pramit Marattha\n",
        "3. Ruchi Saboo\n",
        "\n",
        "https://datahack.analyticsvidhya.com/contest/practice-problem-identify-the-digits/)"
      ]
    },
    {
      "cell_type": "markdown",
      "metadata": {
        "id": "cL7wEj_ghAyd",
        "colab_type": "text"
      },
      "source": [
        "**Perform standard imports and load datasets**"
      ]
    },
    {
      "cell_type": "code",
      "metadata": {
        "id": "9rcACkrZaZpl",
        "colab_type": "code",
        "outputId": "303e4905-c6b6-457d-8167-efc9148a316b",
        "colab": {
          "base_uri": "https://localhost:8080/",
          "height": 87
        }
      },
      "source": [
        "import numpy as np\n",
        "import pandas as pd\n",
        "import matplotlib.pyplot as plt\n",
        "import matplotlib.image as mpimg\n",
        "import seaborn as sns\n",
        "import random\n",
        "%matplotlib inline\n",
        "sns.set(style='white', context='notebook', palette='deep')\n",
        "\n",
        "import warnings\n",
        "warnings.simplefilter('ignore')\n",
        "\n",
        "import cv2\n",
        "import glob\n",
        "import os\n",
        "\n",
        "import tensorflow as tf\n",
        "from tensorflow.keras.utils import to_categorical\n",
        "from tensorflow.keras.models import Sequential\n",
        "from tensorflow.keras.layers import Dense, Flatten, MaxPooling2D, Dropout, Convolution2D, BatchNormalization, Activation\n",
        "from keras import regularizers, optimizers"
      ],
      "execution_count": 2,
      "outputs": [
        {
          "output_type": "stream",
          "text": [
            "/usr/local/lib/python3.6/dist-packages/statsmodels/tools/_testing.py:19: FutureWarning: pandas.util.testing is deprecated. Use the functions in the public API at pandas.testing instead.\n",
            "  import pandas.util.testing as tm\n",
            "Using TensorFlow backend.\n"
          ],
          "name": "stderr"
        }
      ]
    },
    {
      "cell_type": "markdown",
      "metadata": {
        "id": "5_Sab0GCoF6N",
        "colab_type": "text"
      },
      "source": [
        "**Datasets**\n",
        "\n",
        "1. train.csv: training set containing the label and image name and images are in Images folder\n",
        "2. test.csv : the set to make predictions over\n",
        "3. sample_submission.csv : example of submission csv format for the competition\n",
        "\n",
        "Metric: accuracy of the classification (% of right predictions)"
      ]
    },
    {
      "cell_type": "markdown",
      "metadata": {
        "id": "wQ6f6OZIiat1",
        "colab_type": "text"
      },
      "source": [
        "**Unzipping folder which contains train and test images folders and train.csv file**"
      ]
    },
    {
      "cell_type": "code",
      "metadata": {
        "id": "AruS52DccXjX",
        "colab_type": "code",
        "outputId": "c582f8ae-7789-4b56-c5ca-b3c3dfadefda",
        "colab": {
          "base_uri": "https://localhost:8080/",
          "height": 50
        }
      },
      "source": [
        "!unzip \"/content/drive/My Drive/Colab Notebooks/Train_123.zip\""
      ],
      "execution_count": 3,
      "outputs": [
        {
          "output_type": "stream",
          "text": [
            "Archive:  /content/drive/My Drive/Colab Notebooks/Train_123.zip\n",
            "replace Images/test/49000.png? [y]es, [n]o, [A]ll, [N]one, [r]ename: "
          ],
          "name": "stdout"
        }
      ]
    },
    {
      "cell_type": "markdown",
      "metadata": {
        "id": "1O2MEv--jaqS",
        "colab_type": "text"
      },
      "source": [
        "**Data Preparation**"
      ]
    },
    {
      "cell_type": "code",
      "metadata": {
        "id": "pt8_TTjTdfHi",
        "colab_type": "code",
        "outputId": "d8f5da47-8b63-4389-8cb1-e2ebceaf66cd",
        "colab": {
          "base_uri": "https://localhost:8080/",
          "height": 195
        }
      },
      "source": [
        "#readin train file\n",
        "train = pd.read_csv('train.csv')\n",
        "train.head()"
      ],
      "execution_count": 4,
      "outputs": [
        {
          "output_type": "execute_result",
          "data": {
            "text/html": [
              "<div>\n",
              "<style scoped>\n",
              "    .dataframe tbody tr th:only-of-type {\n",
              "        vertical-align: middle;\n",
              "    }\n",
              "\n",
              "    .dataframe tbody tr th {\n",
              "        vertical-align: top;\n",
              "    }\n",
              "\n",
              "    .dataframe thead th {\n",
              "        text-align: right;\n",
              "    }\n",
              "</style>\n",
              "<table border=\"1\" class=\"dataframe\">\n",
              "  <thead>\n",
              "    <tr style=\"text-align: right;\">\n",
              "      <th></th>\n",
              "      <th>filename</th>\n",
              "      <th>label</th>\n",
              "    </tr>\n",
              "  </thead>\n",
              "  <tbody>\n",
              "    <tr>\n",
              "      <th>0</th>\n",
              "      <td>0.png</td>\n",
              "      <td>4</td>\n",
              "    </tr>\n",
              "    <tr>\n",
              "      <th>1</th>\n",
              "      <td>1.png</td>\n",
              "      <td>9</td>\n",
              "    </tr>\n",
              "    <tr>\n",
              "      <th>2</th>\n",
              "      <td>2.png</td>\n",
              "      <td>1</td>\n",
              "    </tr>\n",
              "    <tr>\n",
              "      <th>3</th>\n",
              "      <td>3.png</td>\n",
              "      <td>7</td>\n",
              "    </tr>\n",
              "    <tr>\n",
              "      <th>4</th>\n",
              "      <td>4.png</td>\n",
              "      <td>3</td>\n",
              "    </tr>\n",
              "  </tbody>\n",
              "</table>\n",
              "</div>"
            ],
            "text/plain": [
              "  filename  label\n",
              "0    0.png      4\n",
              "1    1.png      9\n",
              "2    2.png      1\n",
              "3    3.png      7\n",
              "4    4.png      3"
            ]
          },
          "metadata": {
            "tags": []
          },
          "execution_count": 4
        }
      ]
    },
    {
      "cell_type": "code",
      "metadata": {
        "id": "RlFXaTX-wy4S",
        "colab_type": "code",
        "outputId": "33c9231c-608b-41c2-9c1c-426e2fbc426f",
        "colab": {
          "base_uri": "https://localhost:8080/",
          "height": 168
        }
      },
      "source": [
        "#info\n",
        "train.info()"
      ],
      "execution_count": 5,
      "outputs": [
        {
          "output_type": "stream",
          "text": [
            "<class 'pandas.core.frame.DataFrame'>\n",
            "RangeIndex: 49000 entries, 0 to 48999\n",
            "Data columns (total 2 columns):\n",
            " #   Column    Non-Null Count  Dtype \n",
            "---  ------    --------------  ----- \n",
            " 0   filename  49000 non-null  object\n",
            " 1   label     49000 non-null  int64 \n",
            "dtypes: int64(1), object(1)\n",
            "memory usage: 765.8+ KB\n"
          ],
          "name": "stdout"
        }
      ]
    },
    {
      "cell_type": "code",
      "metadata": {
        "id": "ZO1ITGNMyChM",
        "colab_type": "code",
        "outputId": "bc23bbdb-2e48-4bdc-97cd-eeba9ffaed0a",
        "colab": {
          "base_uri": "https://localhost:8080/",
          "height": 195
        }
      },
      "source": [
        "#reading test file\n",
        "test = pd.read_csv(\"/content/drive/My Drive/Colab Notebooks/test.csv\")\n",
        "test.head()"
      ],
      "execution_count": 6,
      "outputs": [
        {
          "output_type": "execute_result",
          "data": {
            "text/html": [
              "<div>\n",
              "<style scoped>\n",
              "    .dataframe tbody tr th:only-of-type {\n",
              "        vertical-align: middle;\n",
              "    }\n",
              "\n",
              "    .dataframe tbody tr th {\n",
              "        vertical-align: top;\n",
              "    }\n",
              "\n",
              "    .dataframe thead th {\n",
              "        text-align: right;\n",
              "    }\n",
              "</style>\n",
              "<table border=\"1\" class=\"dataframe\">\n",
              "  <thead>\n",
              "    <tr style=\"text-align: right;\">\n",
              "      <th></th>\n",
              "      <th>filename</th>\n",
              "    </tr>\n",
              "  </thead>\n",
              "  <tbody>\n",
              "    <tr>\n",
              "      <th>0</th>\n",
              "      <td>49000.png</td>\n",
              "    </tr>\n",
              "    <tr>\n",
              "      <th>1</th>\n",
              "      <td>49001.png</td>\n",
              "    </tr>\n",
              "    <tr>\n",
              "      <th>2</th>\n",
              "      <td>49002.png</td>\n",
              "    </tr>\n",
              "    <tr>\n",
              "      <th>3</th>\n",
              "      <td>49003.png</td>\n",
              "    </tr>\n",
              "    <tr>\n",
              "      <th>4</th>\n",
              "      <td>49004.png</td>\n",
              "    </tr>\n",
              "  </tbody>\n",
              "</table>\n",
              "</div>"
            ],
            "text/plain": [
              "    filename\n",
              "0  49000.png\n",
              "1  49001.png\n",
              "2  49002.png\n",
              "3  49003.png\n",
              "4  49004.png"
            ]
          },
          "metadata": {
            "tags": []
          },
          "execution_count": 6
        }
      ]
    },
    {
      "cell_type": "code",
      "metadata": {
        "id": "2EpfOtgVyTq1",
        "colab_type": "code",
        "outputId": "15f2c3dc-1cc6-4a8b-9e92-c6be0ee130d4",
        "colab": {
          "base_uri": "https://localhost:8080/",
          "height": 151
        }
      },
      "source": [
        "#info\n",
        "test.info()"
      ],
      "execution_count": 7,
      "outputs": [
        {
          "output_type": "stream",
          "text": [
            "<class 'pandas.core.frame.DataFrame'>\n",
            "RangeIndex: 21000 entries, 0 to 20999\n",
            "Data columns (total 1 columns):\n",
            " #   Column    Non-Null Count  Dtype \n",
            "---  ------    --------------  ----- \n",
            " 0   filename  21000 non-null  object\n",
            "dtypes: object(1)\n",
            "memory usage: 164.2+ KB\n"
          ],
          "name": "stdout"
        }
      ]
    },
    {
      "cell_type": "code",
      "metadata": {
        "id": "QM5B9o3Ryb6F",
        "colab_type": "code",
        "outputId": "2c1109ee-5d09-4b81-80ab-66c3d718873c",
        "colab": {
          "base_uri": "https://localhost:8080/",
          "height": 284
        }
      },
      "source": [
        "# summary of test and train data\n",
        "train.describe()"
      ],
      "execution_count": 8,
      "outputs": [
        {
          "output_type": "execute_result",
          "data": {
            "text/html": [
              "<div>\n",
              "<style scoped>\n",
              "    .dataframe tbody tr th:only-of-type {\n",
              "        vertical-align: middle;\n",
              "    }\n",
              "\n",
              "    .dataframe tbody tr th {\n",
              "        vertical-align: top;\n",
              "    }\n",
              "\n",
              "    .dataframe thead th {\n",
              "        text-align: right;\n",
              "    }\n",
              "</style>\n",
              "<table border=\"1\" class=\"dataframe\">\n",
              "  <thead>\n",
              "    <tr style=\"text-align: right;\">\n",
              "      <th></th>\n",
              "      <th>label</th>\n",
              "    </tr>\n",
              "  </thead>\n",
              "  <tbody>\n",
              "    <tr>\n",
              "      <th>count</th>\n",
              "      <td>49000.000000</td>\n",
              "    </tr>\n",
              "    <tr>\n",
              "      <th>mean</th>\n",
              "      <td>4.452408</td>\n",
              "    </tr>\n",
              "    <tr>\n",
              "      <th>std</th>\n",
              "      <td>2.890206</td>\n",
              "    </tr>\n",
              "    <tr>\n",
              "      <th>min</th>\n",
              "      <td>0.000000</td>\n",
              "    </tr>\n",
              "    <tr>\n",
              "      <th>25%</th>\n",
              "      <td>2.000000</td>\n",
              "    </tr>\n",
              "    <tr>\n",
              "      <th>50%</th>\n",
              "      <td>4.000000</td>\n",
              "    </tr>\n",
              "    <tr>\n",
              "      <th>75%</th>\n",
              "      <td>7.000000</td>\n",
              "    </tr>\n",
              "    <tr>\n",
              "      <th>max</th>\n",
              "      <td>9.000000</td>\n",
              "    </tr>\n",
              "  </tbody>\n",
              "</table>\n",
              "</div>"
            ],
            "text/plain": [
              "              label\n",
              "count  49000.000000\n",
              "mean       4.452408\n",
              "std        2.890206\n",
              "min        0.000000\n",
              "25%        2.000000\n",
              "50%        4.000000\n",
              "75%        7.000000\n",
              "max        9.000000"
            ]
          },
          "metadata": {
            "tags": []
          },
          "execution_count": 8
        }
      ]
    },
    {
      "cell_type": "code",
      "metadata": {
        "id": "mUYDtQIlyott",
        "colab_type": "code",
        "outputId": "74094fd8-3a77-4e74-9ab0-cb5c194560fe",
        "colab": {
          "base_uri": "https://localhost:8080/",
          "height": 166
        }
      },
      "source": [
        "test.describe()"
      ],
      "execution_count": 9,
      "outputs": [
        {
          "output_type": "execute_result",
          "data": {
            "text/html": [
              "<div>\n",
              "<style scoped>\n",
              "    .dataframe tbody tr th:only-of-type {\n",
              "        vertical-align: middle;\n",
              "    }\n",
              "\n",
              "    .dataframe tbody tr th {\n",
              "        vertical-align: top;\n",
              "    }\n",
              "\n",
              "    .dataframe thead th {\n",
              "        text-align: right;\n",
              "    }\n",
              "</style>\n",
              "<table border=\"1\" class=\"dataframe\">\n",
              "  <thead>\n",
              "    <tr style=\"text-align: right;\">\n",
              "      <th></th>\n",
              "      <th>filename</th>\n",
              "    </tr>\n",
              "  </thead>\n",
              "  <tbody>\n",
              "    <tr>\n",
              "      <th>count</th>\n",
              "      <td>21000</td>\n",
              "    </tr>\n",
              "    <tr>\n",
              "      <th>unique</th>\n",
              "      <td>21000</td>\n",
              "    </tr>\n",
              "    <tr>\n",
              "      <th>top</th>\n",
              "      <td>63060.png</td>\n",
              "    </tr>\n",
              "    <tr>\n",
              "      <th>freq</th>\n",
              "      <td>1</td>\n",
              "    </tr>\n",
              "  </tbody>\n",
              "</table>\n",
              "</div>"
            ],
            "text/plain": [
              "         filename\n",
              "count       21000\n",
              "unique      21000\n",
              "top     63060.png\n",
              "freq            1"
            ]
          },
          "metadata": {
            "tags": []
          },
          "execution_count": 9
        }
      ]
    },
    {
      "cell_type": "code",
      "metadata": {
        "id": "Pva7iyJJyqkl",
        "colab_type": "code",
        "colab": {}
      },
      "source": [
        "y_train = train['label']\n",
        "x_train = train.drop('label',axis=1)"
      ],
      "execution_count": 0,
      "outputs": []
    },
    {
      "cell_type": "code",
      "metadata": {
        "id": "2ctEErBmj9n-",
        "colab_type": "code",
        "outputId": "912c58a8-f53a-46ea-97dc-809c6b0809c8",
        "colab": {
          "base_uri": "https://localhost:8080/",
          "height": 302
        }
      },
      "source": [
        "# Distribution of Digits in the dataset\n",
        "sns.countplot(y_train)"
      ],
      "execution_count": 11,
      "outputs": [
        {
          "output_type": "execute_result",
          "data": {
            "text/plain": [
              "<matplotlib.axes._subplots.AxesSubplot at 0x7fb24f1bdb70>"
            ]
          },
          "metadata": {
            "tags": []
          },
          "execution_count": 11
        },
        {
          "output_type": "display_data",
          "data": {
            "image/png": "[encoded data removed]",
            "text/plain": [
              "<Figure size 432x288 with 1 Axes>"
            ]
          },
          "metadata": {
            "tags": []
          }
        }
      ]
    },
    {
      "cell_type": "markdown",
      "metadata": {
        "id": "9FftJktZzWha",
        "colab_type": "text"
      },
      "source": [
        "**Checking data for any null values**"
      ]
    },
    {
      "cell_type": "code",
      "metadata": {
        "id": "Z3vpKrGgy0mF",
        "colab_type": "code",
        "outputId": "9c81f072-b84e-4fb1-b91b-6a328ae9037e",
        "colab": {
          "base_uri": "https://localhost:8080/",
          "height": 101
        }
      },
      "source": [
        "x_train.isnull().any().describe()"
      ],
      "execution_count": 12,
      "outputs": [
        {
          "output_type": "execute_result",
          "data": {
            "text/plain": [
              "count         1\n",
              "unique        1\n",
              "top       False\n",
              "freq          1\n",
              "dtype: object"
            ]
          },
          "metadata": {
            "tags": []
          },
          "execution_count": 12
        }
      ]
    },
    {
      "cell_type": "code",
      "metadata": {
        "id": "djMChQNElkrk",
        "colab_type": "code",
        "outputId": "04c0dfc5-2555-4d4c-8947-1bb18a3cc920",
        "colab": {
          "base_uri": "https://localhost:8080/",
          "height": 101
        }
      },
      "source": [
        "test.isnull().any().describe()"
      ],
      "execution_count": 13,
      "outputs": [
        {
          "output_type": "execute_result",
          "data": {
            "text/plain": [
              "count         1\n",
              "unique        1\n",
              "top       False\n",
              "freq          1\n",
              "dtype: object"
            ]
          },
          "metadata": {
            "tags": []
          },
          "execution_count": 13
        }
      ]
    },
    {
      "cell_type": "code",
      "metadata": {
        "id": "P4n3BiuP_BQi",
        "colab_type": "code",
        "outputId": "f77afd8a-a216-4c9d-80ce-e31651102317",
        "colab": {
          "base_uri": "https://localhost:8080/",
          "height": 34
        }
      },
      "source": [
        "y_train.isnull().sum()"
      ],
      "execution_count": 14,
      "outputs": [
        {
          "output_type": "execute_result",
          "data": {
            "text/plain": [
              "0"
            ]
          },
          "metadata": {
            "tags": []
          },
          "execution_count": 14
        }
      ]
    },
    {
      "cell_type": "markdown",
      "metadata": {
        "id": "L_BPSNz9zi1F",
        "colab_type": "text"
      },
      "source": [
        "Therefor there is no null value in the dataset"
      ]
    },
    {
      "cell_type": "markdown",
      "metadata": {
        "id": "BPEyxK-wzqTt",
        "colab_type": "text"
      },
      "source": [
        "**Function to load images in numpy array**"
      ]
    },
    {
      "cell_type": "code",
      "metadata": {
        "id": "33UqsLhCzVLl",
        "colab_type": "code",
        "colab": {}
      },
      "source": [
        "def image_load(filepath):\n",
        "    i_cv=[]\n",
        "    for img in sorted(glob.glob(os.path.join(filepath,'*.png')),key=lambda x:int(x.split('/')[-1].split('.')[0])):\n",
        "        cv_img = cv2.imread(img,0)\n",
        "        i_cv.append(cv_img)\n",
        "    x_train = np.array(i_cv)\n",
        "    return x_train"
      ],
      "execution_count": 0,
      "outputs": []
    },
    {
      "cell_type": "code",
      "metadata": {
        "id": "ZxQ338qxzzZe",
        "colab_type": "code",
        "colab": {}
      },
      "source": [
        "# loading training images\n",
        "x_train = image_load('Images/train')"
      ],
      "execution_count": 0,
      "outputs": []
    },
    {
      "cell_type": "code",
      "metadata": {
        "id": "aRo0f-EPz1z8",
        "colab_type": "code",
        "colab": {}
      },
      "source": [
        "#loading testing images\n",
        "x_test = image_load('Images/test')"
      ],
      "execution_count": 0,
      "outputs": []
    },
    {
      "cell_type": "code",
      "metadata": {
        "id": "zuFC08Ed_WfY",
        "colab_type": "code",
        "outputId": "2772c1dc-3afc-48a0-ae6a-f50aa1d97615",
        "colab": {
          "base_uri": "https://localhost:8080/",
          "height": 50
        }
      },
      "source": [
        "print(f'Train data shape : {x_train.shape}')\n",
        "print(f'Test data shape : {x_test.shape}')"
      ],
      "execution_count": 18,
      "outputs": [
        {
          "output_type": "stream",
          "text": [
            "Train data shape : (49000, 28, 28)\n",
            "Test data shape : (21000, 28, 28)\n"
          ],
          "name": "stdout"
        }
      ]
    },
    {
      "cell_type": "code",
      "metadata": {
        "id": "ScFwuzo6_WtJ",
        "colab_type": "code",
        "outputId": "7b0592b8-621d-4d07-bb15-5c7b9b353a18",
        "colab": {
          "base_uri": "https://localhost:8080/",
          "height": 256
        }
      },
      "source": [
        "#display training images and labels to make sure they lineup correctly\n",
        "\n",
        "fig,ax = plt.subplots(5,10)\n",
        "for i, axis in enumerate(ax.flat):\n",
        "    axis.imshow(x_train[i], cmap= 'gray')\n",
        "    axis.set(xticks = [], yticks=[], xlabel=y_train[i])"
      ],
      "execution_count": 19,
      "outputs": [
        {
          "output_type": "display_data",
          "data": {
            "image/png": "[encoded data removed]",
            "text/plain": [
              "<Figure size 432x288 with 50 Axes>"
            ]
          },
          "metadata": {
            "tags": []
          }
        }
      ]
    },
    {
      "cell_type": "code",
      "metadata": {
        "id": "FBfIeKch_W20",
        "colab_type": "code",
        "outputId": "3aad14f3-e92e-426b-9919-0b043522b106",
        "colab": {
          "base_uri": "https://localhost:8080/",
          "height": 333
        }
      },
      "source": [
        "#Analysis of pixel intensity values\n",
        "pixels = pd.DataFrame(x_train.reshape(49000, 784))\n",
        "pixels.describe()"
      ],
      "execution_count": 20,
      "outputs": [
        {
          "output_type": "execute_result",
          "data": {
            "text/html": [
              "<div>\n",
              "<style scoped>\n",
              "    .dataframe tbody tr th:only-of-type {\n",
              "        vertical-align: middle;\n",
              "    }\n",
              "\n",
              "    .dataframe tbody tr th {\n",
              "        vertical-align: top;\n",
              "    }\n",
              "\n",
              "    .dataframe thead th {\n",
              "        text-align: right;\n",
              "    }\n",
              "</style>\n",
              "<table border=\"1\" class=\"dataframe\">\n",
              "  <thead>\n",
              "    <tr style=\"text-align: right;\">\n",
              "      <th></th>\n",
              "      <th>0</th>\n",
              "      <th>1</th>\n",
              "      <th>2</th>\n",
              "      <th>3</th>\n",
              "      <th>4</th>\n",
              "      <th>5</th>\n",
              "      <th>6</th>\n",
              "      <th>7</th>\n",
              "      <th>8</th>\n",
              "      <th>9</th>\n",
              "      <th>10</th>\n",
              "      <th>11</th>\n",
              "      <th>12</th>\n",
              "      <th>13</th>\n",
              "      <th>14</th>\n",
              "      <th>15</th>\n",
              "      <th>16</th>\n",
              "      <th>17</th>\n",
              "      <th>18</th>\n",
              "      <th>19</th>\n",
              "      <th>20</th>\n",
              "      <th>21</th>\n",
              "      <th>22</th>\n",
              "      <th>23</th>\n",
              "      <th>24</th>\n",
              "      <th>25</th>\n",
              "      <th>26</th>\n",
              "      <th>27</th>\n",
              "      <th>28</th>\n",
              "      <th>29</th>\n",
              "      <th>30</th>\n",
              "      <th>31</th>\n",
              "      <th>32</th>\n",
              "      <th>33</th>\n",
              "      <th>34</th>\n",
              "      <th>35</th>\n",
              "      <th>36</th>\n",
              "      <th>37</th>\n",
              "      <th>38</th>\n",
              "      <th>39</th>\n",
              "      <th>...</th>\n",
              "      <th>744</th>\n",
              "      <th>745</th>\n",
              "      <th>746</th>\n",
              "      <th>747</th>\n",
              "      <th>748</th>\n",
              "      <th>749</th>\n",
              "      <th>750</th>\n",
              "      <th>751</th>\n",
              "      <th>752</th>\n",
              "      <th>753</th>\n",
              "      <th>754</th>\n",
              "      <th>755</th>\n",
              "      <th>756</th>\n",
              "      <th>757</th>\n",
              "      <th>758</th>\n",
              "      <th>759</th>\n",
              "      <th>760</th>\n",
              "      <th>761</th>\n",
              "      <th>762</th>\n",
              "      <th>763</th>\n",
              "      <th>764</th>\n",
              "      <th>765</th>\n",
              "      <th>766</th>\n",
              "      <th>767</th>\n",
              "      <th>768</th>\n",
              "      <th>769</th>\n",
              "      <th>770</th>\n",
              "      <th>771</th>\n",
              "      <th>772</th>\n",
              "      <th>773</th>\n",
              "      <th>774</th>\n",
              "      <th>775</th>\n",
              "      <th>776</th>\n",
              "      <th>777</th>\n",
              "      <th>778</th>\n",
              "      <th>779</th>\n",
              "      <th>780</th>\n",
              "      <th>781</th>\n",
              "      <th>782</th>\n",
              "      <th>783</th>\n",
              "    </tr>\n",
              "  </thead>\n",
              "  <tbody>\n",
              "    <tr>\n",
              "      <th>count</th>\n",
              "      <td>49000.0</td>\n",
              "      <td>49000.0</td>\n",
              "      <td>49000.0</td>\n",
              "      <td>49000.0</td>\n",
              "      <td>49000.0</td>\n",
              "      <td>49000.0</td>\n",
              "      <td>49000.0</td>\n",
              "      <td>49000.0</td>\n",
              "      <td>49000.0</td>\n",
              "      <td>49000.0</td>\n",
              "      <td>49000.0</td>\n",
              "      <td>49000.0</td>\n",
              "      <td>49000.000000</td>\n",
              "      <td>49000.000000</td>\n",
              "      <td>49000.000000</td>\n",
              "      <td>49000.000000</td>\n",
              "      <td>49000.0</td>\n",
              "      <td>49000.0</td>\n",
              "      <td>49000.0</td>\n",
              "      <td>49000.0</td>\n",
              "      <td>49000.0</td>\n",
              "      <td>49000.0</td>\n",
              "      <td>49000.0</td>\n",
              "      <td>49000.0</td>\n",
              "      <td>49000.0</td>\n",
              "      <td>49000.0</td>\n",
              "      <td>49000.0</td>\n",
              "      <td>49000.0</td>\n",
              "      <td>49000.0</td>\n",
              "      <td>49000.0</td>\n",
              "      <td>49000.0</td>\n",
              "      <td>49000.0</td>\n",
              "      <td>49000.000000</td>\n",
              "      <td>49000.000000</td>\n",
              "      <td>49000.000000</td>\n",
              "      <td>49000.000000</td>\n",
              "      <td>49000.000000</td>\n",
              "      <td>49000.000000</td>\n",
              "      <td>49000.000000</td>\n",
              "      <td>49000.000000</td>\n",
              "      <td>...</td>\n",
              "      <td>49000.000000</td>\n",
              "      <td>49000.000000</td>\n",
              "      <td>49000.000000</td>\n",
              "      <td>49000.000000</td>\n",
              "      <td>49000.000000</td>\n",
              "      <td>49000.000000</td>\n",
              "      <td>49000.000000</td>\n",
              "      <td>49000.000000</td>\n",
              "      <td>49000.000000</td>\n",
              "      <td>49000.0</td>\n",
              "      <td>49000.0</td>\n",
              "      <td>49000.0</td>\n",
              "      <td>49000.0</td>\n",
              "      <td>49000.0</td>\n",
              "      <td>49000.0</td>\n",
              "      <td>49000.0</td>\n",
              "      <td>49000.0</td>\n",
              "      <td>49000.000000</td>\n",
              "      <td>49000.000000</td>\n",
              "      <td>49000.000000</td>\n",
              "      <td>49000.00000</td>\n",
              "      <td>49000.000000</td>\n",
              "      <td>49000.000000</td>\n",
              "      <td>49000.000000</td>\n",
              "      <td>49000.000000</td>\n",
              "      <td>49000.000000</td>\n",
              "      <td>49000.000000</td>\n",
              "      <td>49000.000000</td>\n",
              "      <td>49000.000000</td>\n",
              "      <td>49000.000000</td>\n",
              "      <td>49000.000000</td>\n",
              "      <td>49000.000000</td>\n",
              "      <td>49000.000000</td>\n",
              "      <td>49000.000000</td>\n",
              "      <td>49000.000000</td>\n",
              "      <td>49000.000000</td>\n",
              "      <td>49000.0</td>\n",
              "      <td>49000.0</td>\n",
              "      <td>49000.0</td>\n",
              "      <td>49000.0</td>\n",
              "    </tr>\n",
              "    <tr>\n",
              "      <th>mean</th>\n",
              "      <td>0.0</td>\n",
              "      <td>0.0</td>\n",
              "      <td>0.0</td>\n",
              "      <td>0.0</td>\n",
              "      <td>0.0</td>\n",
              "      <td>0.0</td>\n",
              "      <td>0.0</td>\n",
              "      <td>0.0</td>\n",
              "      <td>0.0</td>\n",
              "      <td>0.0</td>\n",
              "      <td>0.0</td>\n",
              "      <td>0.0</td>\n",
              "      <td>0.002571</td>\n",
              "      <td>0.009612</td>\n",
              "      <td>0.004429</td>\n",
              "      <td>0.000184</td>\n",
              "      <td>0.0</td>\n",
              "      <td>0.0</td>\n",
              "      <td>0.0</td>\n",
              "      <td>0.0</td>\n",
              "      <td>0.0</td>\n",
              "      <td>0.0</td>\n",
              "      <td>0.0</td>\n",
              "      <td>0.0</td>\n",
              "      <td>0.0</td>\n",
              "      <td>0.0</td>\n",
              "      <td>0.0</td>\n",
              "      <td>0.0</td>\n",
              "      <td>0.0</td>\n",
              "      <td>0.0</td>\n",
              "      <td>0.0</td>\n",
              "      <td>0.0</td>\n",
              "      <td>0.000327</td>\n",
              "      <td>0.001122</td>\n",
              "      <td>0.011286</td>\n",
              "      <td>0.028102</td>\n",
              "      <td>0.048163</td>\n",
              "      <td>0.074143</td>\n",
              "      <td>0.126469</td>\n",
              "      <td>0.180816</td>\n",
              "      <td>...</td>\n",
              "      <td>3.653367</td>\n",
              "      <td>2.674592</td>\n",
              "      <td>1.750408</td>\n",
              "      <td>1.077980</td>\n",
              "      <td>0.591286</td>\n",
              "      <td>0.263694</td>\n",
              "      <td>0.086306</td>\n",
              "      <td>0.023898</td>\n",
              "      <td>0.000612</td>\n",
              "      <td>0.0</td>\n",
              "      <td>0.0</td>\n",
              "      <td>0.0</td>\n",
              "      <td>0.0</td>\n",
              "      <td>0.0</td>\n",
              "      <td>0.0</td>\n",
              "      <td>0.0</td>\n",
              "      <td>0.0</td>\n",
              "      <td>0.004755</td>\n",
              "      <td>0.035000</td>\n",
              "      <td>0.101571</td>\n",
              "      <td>0.14202</td>\n",
              "      <td>0.218000</td>\n",
              "      <td>0.304143</td>\n",
              "      <td>0.381388</td>\n",
              "      <td>0.487224</td>\n",
              "      <td>0.581082</td>\n",
              "      <td>0.656041</td>\n",
              "      <td>0.608122</td>\n",
              "      <td>0.485082</td>\n",
              "      <td>0.315000</td>\n",
              "      <td>0.191184</td>\n",
              "      <td>0.092041</td>\n",
              "      <td>0.048633</td>\n",
              "      <td>0.019673</td>\n",
              "      <td>0.008857</td>\n",
              "      <td>0.001265</td>\n",
              "      <td>0.0</td>\n",
              "      <td>0.0</td>\n",
              "      <td>0.0</td>\n",
              "      <td>0.0</td>\n",
              "    </tr>\n",
              "    <tr>\n",
              "      <th>std</th>\n",
              "      <td>0.0</td>\n",
              "      <td>0.0</td>\n",
              "      <td>0.0</td>\n",
              "      <td>0.0</td>\n",
              "      <td>0.0</td>\n",
              "      <td>0.0</td>\n",
              "      <td>0.0</td>\n",
              "      <td>0.0</td>\n",
              "      <td>0.0</td>\n",
              "      <td>0.0</td>\n",
              "      <td>0.0</td>\n",
              "      <td>0.0</td>\n",
              "      <td>0.525977</td>\n",
              "      <td>1.509174</td>\n",
              "      <td>0.980306</td>\n",
              "      <td>0.040658</td>\n",
              "      <td>0.0</td>\n",
              "      <td>0.0</td>\n",
              "      <td>0.0</td>\n",
              "      <td>0.0</td>\n",
              "      <td>0.0</td>\n",
              "      <td>0.0</td>\n",
              "      <td>0.0</td>\n",
              "      <td>0.0</td>\n",
              "      <td>0.0</td>\n",
              "      <td>0.0</td>\n",
              "      <td>0.0</td>\n",
              "      <td>0.0</td>\n",
              "      <td>0.0</td>\n",
              "      <td>0.0</td>\n",
              "      <td>0.0</td>\n",
              "      <td>0.0</td>\n",
              "      <td>0.072281</td>\n",
              "      <td>0.215377</td>\n",
              "      <td>1.163107</td>\n",
              "      <td>2.301728</td>\n",
              "      <td>3.117011</td>\n",
              "      <td>3.648989</td>\n",
              "      <td>4.914521</td>\n",
              "      <td>5.854156</td>\n",
              "      <td>...</td>\n",
              "      <td>26.504976</td>\n",
              "      <td>22.584546</td>\n",
              "      <td>18.263664</td>\n",
              "      <td>14.390402</td>\n",
              "      <td>10.774209</td>\n",
              "      <td>6.919345</td>\n",
              "      <td>3.755714</td>\n",
              "      <td>1.819320</td>\n",
              "      <td>0.102817</td>\n",
              "      <td>0.0</td>\n",
              "      <td>0.0</td>\n",
              "      <td>0.0</td>\n",
              "      <td>0.0</td>\n",
              "      <td>0.0</td>\n",
              "      <td>0.0</td>\n",
              "      <td>0.0</td>\n",
              "      <td>0.0</td>\n",
              "      <td>0.838665</td>\n",
              "      <td>2.323923</td>\n",
              "      <td>4.398865</td>\n",
              "      <td>5.01387</td>\n",
              "      <td>6.570063</td>\n",
              "      <td>7.200749</td>\n",
              "      <td>8.561542</td>\n",
              "      <td>9.471211</td>\n",
              "      <td>10.487697</td>\n",
              "      <td>11.072890</td>\n",
              "      <td>10.713339</td>\n",
              "      <td>9.594891</td>\n",
              "      <td>7.627077</td>\n",
              "      <td>5.993740</td>\n",
              "      <td>4.010428</td>\n",
              "      <td>2.939762</td>\n",
              "      <td>1.802607</td>\n",
              "      <td>1.246969</td>\n",
              "      <td>0.280087</td>\n",
              "      <td>0.0</td>\n",
              "      <td>0.0</td>\n",
              "      <td>0.0</td>\n",
              "      <td>0.0</td>\n",
              "    </tr>\n",
              "    <tr>\n",
              "      <th>min</th>\n",
              "      <td>0.0</td>\n",
              "      <td>0.0</td>\n",
              "      <td>0.0</td>\n",
              "      <td>0.0</td>\n",
              "      <td>0.0</td>\n",
              "      <td>0.0</td>\n",
              "      <td>0.0</td>\n",
              "      <td>0.0</td>\n",
              "      <td>0.0</td>\n",
              "      <td>0.0</td>\n",
              "      <td>0.0</td>\n",
              "      <td>0.0</td>\n",
              "      <td>0.000000</td>\n",
              "      <td>0.000000</td>\n",
              "      <td>0.000000</td>\n",
              "      <td>0.000000</td>\n",
              "      <td>0.0</td>\n",
              "      <td>0.0</td>\n",
              "      <td>0.0</td>\n",
              "      <td>0.0</td>\n",
              "      <td>0.0</td>\n",
              "      <td>0.0</td>\n",
              "      <td>0.0</td>\n",
              "      <td>0.0</td>\n",
              "      <td>0.0</td>\n",
              "      <td>0.0</td>\n",
              "      <td>0.0</td>\n",
              "      <td>0.0</td>\n",
              "      <td>0.0</td>\n",
              "      <td>0.0</td>\n",
              "      <td>0.0</td>\n",
              "      <td>0.0</td>\n",
              "      <td>0.000000</td>\n",
              "      <td>0.000000</td>\n",
              "      <td>0.000000</td>\n",
              "      <td>0.000000</td>\n",
              "      <td>0.000000</td>\n",
              "      <td>0.000000</td>\n",
              "      <td>0.000000</td>\n",
              "      <td>0.000000</td>\n",
              "      <td>...</td>\n",
              "      <td>0.000000</td>\n",
              "      <td>0.000000</td>\n",
              "      <td>0.000000</td>\n",
              "      <td>0.000000</td>\n",
              "      <td>0.000000</td>\n",
              "      <td>0.000000</td>\n",
              "      <td>0.000000</td>\n",
              "      <td>0.000000</td>\n",
              "      <td>0.000000</td>\n",
              "      <td>0.0</td>\n",
              "      <td>0.0</td>\n",
              "      <td>0.0</td>\n",
              "      <td>0.0</td>\n",
              "      <td>0.0</td>\n",
              "      <td>0.0</td>\n",
              "      <td>0.0</td>\n",
              "      <td>0.0</td>\n",
              "      <td>0.000000</td>\n",
              "      <td>0.000000</td>\n",
              "      <td>0.000000</td>\n",
              "      <td>0.00000</td>\n",
              "      <td>0.000000</td>\n",
              "      <td>0.000000</td>\n",
              "      <td>0.000000</td>\n",
              "      <td>0.000000</td>\n",
              "      <td>0.000000</td>\n",
              "      <td>0.000000</td>\n",
              "      <td>0.000000</td>\n",
              "      <td>0.000000</td>\n",
              "      <td>0.000000</td>\n",
              "      <td>0.000000</td>\n",
              "      <td>0.000000</td>\n",
              "      <td>0.000000</td>\n",
              "      <td>0.000000</td>\n",
              "      <td>0.000000</td>\n",
              "      <td>0.000000</td>\n",
              "      <td>0.0</td>\n",
              "      <td>0.0</td>\n",
              "      <td>0.0</td>\n",
              "      <td>0.0</td>\n",
              "    </tr>\n",
              "    <tr>\n",
              "      <th>25%</th>\n",
              "      <td>0.0</td>\n",
              "      <td>0.0</td>\n",
              "      <td>0.0</td>\n",
              "      <td>0.0</td>\n",
              "      <td>0.0</td>\n",
              "      <td>0.0</td>\n",
              "      <td>0.0</td>\n",
              "      <td>0.0</td>\n",
              "      <td>0.0</td>\n",
              "      <td>0.0</td>\n",
              "      <td>0.0</td>\n",
              "      <td>0.0</td>\n",
              "      <td>0.000000</td>\n",
              "      <td>0.000000</td>\n",
              "      <td>0.000000</td>\n",
              "      <td>0.000000</td>\n",
              "      <td>0.0</td>\n",
              "      <td>0.0</td>\n",
              "      <td>0.0</td>\n",
              "      <td>0.0</td>\n",
              "      <td>0.0</td>\n",
              "      <td>0.0</td>\n",
              "      <td>0.0</td>\n",
              "      <td>0.0</td>\n",
              "      <td>0.0</td>\n",
              "      <td>0.0</td>\n",
              "      <td>0.0</td>\n",
              "      <td>0.0</td>\n",
              "      <td>0.0</td>\n",
              "      <td>0.0</td>\n",
              "      <td>0.0</td>\n",
              "      <td>0.0</td>\n",
              "      <td>0.000000</td>\n",
              "      <td>0.000000</td>\n",
              "      <td>0.000000</td>\n",
              "      <td>0.000000</td>\n",
              "      <td>0.000000</td>\n",
              "      <td>0.000000</td>\n",
              "      <td>0.000000</td>\n",
              "      <td>0.000000</td>\n",
              "      <td>...</td>\n",
              "      <td>0.000000</td>\n",
              "      <td>0.000000</td>\n",
              "      <td>0.000000</td>\n",
              "      <td>0.000000</td>\n",
              "      <td>0.000000</td>\n",
              "      <td>0.000000</td>\n",
              "      <td>0.000000</td>\n",
              "      <td>0.000000</td>\n",
              "      <td>0.000000</td>\n",
              "      <td>0.0</td>\n",
              "      <td>0.0</td>\n",
              "      <td>0.0</td>\n",
              "      <td>0.0</td>\n",
              "      <td>0.0</td>\n",
              "      <td>0.0</td>\n",
              "      <td>0.0</td>\n",
              "      <td>0.0</td>\n",
              "      <td>0.000000</td>\n",
              "      <td>0.000000</td>\n",
              "      <td>0.000000</td>\n",
              "      <td>0.00000</td>\n",
              "      <td>0.000000</td>\n",
              "      <td>0.000000</td>\n",
              "      <td>0.000000</td>\n",
              "      <td>0.000000</td>\n",
              "      <td>0.000000</td>\n",
              "      <td>0.000000</td>\n",
              "      <td>0.000000</td>\n",
              "      <td>0.000000</td>\n",
              "      <td>0.000000</td>\n",
              "      <td>0.000000</td>\n",
              "      <td>0.000000</td>\n",
              "      <td>0.000000</td>\n",
              "      <td>0.000000</td>\n",
              "      <td>0.000000</td>\n",
              "      <td>0.000000</td>\n",
              "      <td>0.0</td>\n",
              "      <td>0.0</td>\n",
              "      <td>0.0</td>\n",
              "      <td>0.0</td>\n",
              "    </tr>\n",
              "    <tr>\n",
              "      <th>50%</th>\n",
              "      <td>0.0</td>\n",
              "      <td>0.0</td>\n",
              "      <td>0.0</td>\n",
              "      <td>0.0</td>\n",
              "      <td>0.0</td>\n",
              "      <td>0.0</td>\n",
              "      <td>0.0</td>\n",
              "      <td>0.0</td>\n",
              "      <td>0.0</td>\n",
              "      <td>0.0</td>\n",
              "      <td>0.0</td>\n",
              "      <td>0.0</td>\n",
              "      <td>0.000000</td>\n",
              "      <td>0.000000</td>\n",
              "      <td>0.000000</td>\n",
              "      <td>0.000000</td>\n",
              "      <td>0.0</td>\n",
              "      <td>0.0</td>\n",
              "      <td>0.0</td>\n",
              "      <td>0.0</td>\n",
              "      <td>0.0</td>\n",
              "      <td>0.0</td>\n",
              "      <td>0.0</td>\n",
              "      <td>0.0</td>\n",
              "      <td>0.0</td>\n",
              "      <td>0.0</td>\n",
              "      <td>0.0</td>\n",
              "      <td>0.0</td>\n",
              "      <td>0.0</td>\n",
              "      <td>0.0</td>\n",
              "      <td>0.0</td>\n",
              "      <td>0.0</td>\n",
              "      <td>0.000000</td>\n",
              "      <td>0.000000</td>\n",
              "      <td>0.000000</td>\n",
              "      <td>0.000000</td>\n",
              "      <td>0.000000</td>\n",
              "      <td>0.000000</td>\n",
              "      <td>0.000000</td>\n",
              "      <td>0.000000</td>\n",
              "      <td>...</td>\n",
              "      <td>0.000000</td>\n",
              "      <td>0.000000</td>\n",
              "      <td>0.000000</td>\n",
              "      <td>0.000000</td>\n",
              "      <td>0.000000</td>\n",
              "      <td>0.000000</td>\n",
              "      <td>0.000000</td>\n",
              "      <td>0.000000</td>\n",
              "      <td>0.000000</td>\n",
              "      <td>0.0</td>\n",
              "      <td>0.0</td>\n",
              "      <td>0.0</td>\n",
              "      <td>0.0</td>\n",
              "      <td>0.0</td>\n",
              "      <td>0.0</td>\n",
              "      <td>0.0</td>\n",
              "      <td>0.0</td>\n",
              "      <td>0.000000</td>\n",
              "      <td>0.000000</td>\n",
              "      <td>0.000000</td>\n",
              "      <td>0.00000</td>\n",
              "      <td>0.000000</td>\n",
              "      <td>0.000000</td>\n",
              "      <td>0.000000</td>\n",
              "      <td>0.000000</td>\n",
              "      <td>0.000000</td>\n",
              "      <td>0.000000</td>\n",
              "      <td>0.000000</td>\n",
              "      <td>0.000000</td>\n",
              "      <td>0.000000</td>\n",
              "      <td>0.000000</td>\n",
              "      <td>0.000000</td>\n",
              "      <td>0.000000</td>\n",
              "      <td>0.000000</td>\n",
              "      <td>0.000000</td>\n",
              "      <td>0.000000</td>\n",
              "      <td>0.0</td>\n",
              "      <td>0.0</td>\n",
              "      <td>0.0</td>\n",
              "      <td>0.0</td>\n",
              "    </tr>\n",
              "    <tr>\n",
              "      <th>75%</th>\n",
              "      <td>0.0</td>\n",
              "      <td>0.0</td>\n",
              "      <td>0.0</td>\n",
              "      <td>0.0</td>\n",
              "      <td>0.0</td>\n",
              "      <td>0.0</td>\n",
              "      <td>0.0</td>\n",
              "      <td>0.0</td>\n",
              "      <td>0.0</td>\n",
              "      <td>0.0</td>\n",
              "      <td>0.0</td>\n",
              "      <td>0.0</td>\n",
              "      <td>0.000000</td>\n",
              "      <td>0.000000</td>\n",
              "      <td>0.000000</td>\n",
              "      <td>0.000000</td>\n",
              "      <td>0.0</td>\n",
              "      <td>0.0</td>\n",
              "      <td>0.0</td>\n",
              "      <td>0.0</td>\n",
              "      <td>0.0</td>\n",
              "      <td>0.0</td>\n",
              "      <td>0.0</td>\n",
              "      <td>0.0</td>\n",
              "      <td>0.0</td>\n",
              "      <td>0.0</td>\n",
              "      <td>0.0</td>\n",
              "      <td>0.0</td>\n",
              "      <td>0.0</td>\n",
              "      <td>0.0</td>\n",
              "      <td>0.0</td>\n",
              "      <td>0.0</td>\n",
              "      <td>0.000000</td>\n",
              "      <td>0.000000</td>\n",
              "      <td>0.000000</td>\n",
              "      <td>0.000000</td>\n",
              "      <td>0.000000</td>\n",
              "      <td>0.000000</td>\n",
              "      <td>0.000000</td>\n",
              "      <td>0.000000</td>\n",
              "      <td>...</td>\n",
              "      <td>0.000000</td>\n",
              "      <td>0.000000</td>\n",
              "      <td>0.000000</td>\n",
              "      <td>0.000000</td>\n",
              "      <td>0.000000</td>\n",
              "      <td>0.000000</td>\n",
              "      <td>0.000000</td>\n",
              "      <td>0.000000</td>\n",
              "      <td>0.000000</td>\n",
              "      <td>0.0</td>\n",
              "      <td>0.0</td>\n",
              "      <td>0.0</td>\n",
              "      <td>0.0</td>\n",
              "      <td>0.0</td>\n",
              "      <td>0.0</td>\n",
              "      <td>0.0</td>\n",
              "      <td>0.0</td>\n",
              "      <td>0.000000</td>\n",
              "      <td>0.000000</td>\n",
              "      <td>0.000000</td>\n",
              "      <td>0.00000</td>\n",
              "      <td>0.000000</td>\n",
              "      <td>0.000000</td>\n",
              "      <td>0.000000</td>\n",
              "      <td>0.000000</td>\n",
              "      <td>0.000000</td>\n",
              "      <td>0.000000</td>\n",
              "      <td>0.000000</td>\n",
              "      <td>0.000000</td>\n",
              "      <td>0.000000</td>\n",
              "      <td>0.000000</td>\n",
              "      <td>0.000000</td>\n",
              "      <td>0.000000</td>\n",
              "      <td>0.000000</td>\n",
              "      <td>0.000000</td>\n",
              "      <td>0.000000</td>\n",
              "      <td>0.0</td>\n",
              "      <td>0.0</td>\n",
              "      <td>0.0</td>\n",
              "      <td>0.0</td>\n",
              "    </tr>\n",
              "    <tr>\n",
              "      <th>max</th>\n",
              "      <td>0.0</td>\n",
              "      <td>0.0</td>\n",
              "      <td>0.0</td>\n",
              "      <td>0.0</td>\n",
              "      <td>0.0</td>\n",
              "      <td>0.0</td>\n",
              "      <td>0.0</td>\n",
              "      <td>0.0</td>\n",
              "      <td>0.0</td>\n",
              "      <td>0.0</td>\n",
              "      <td>0.0</td>\n",
              "      <td>0.0</td>\n",
              "      <td>116.000000</td>\n",
              "      <td>254.000000</td>\n",
              "      <td>217.000000</td>\n",
              "      <td>9.000000</td>\n",
              "      <td>0.0</td>\n",
              "      <td>0.0</td>\n",
              "      <td>0.0</td>\n",
              "      <td>0.0</td>\n",
              "      <td>0.0</td>\n",
              "      <td>0.0</td>\n",
              "      <td>0.0</td>\n",
              "      <td>0.0</td>\n",
              "      <td>0.0</td>\n",
              "      <td>0.0</td>\n",
              "      <td>0.0</td>\n",
              "      <td>0.0</td>\n",
              "      <td>0.0</td>\n",
              "      <td>0.0</td>\n",
              "      <td>0.0</td>\n",
              "      <td>0.0</td>\n",
              "      <td>16.000000</td>\n",
              "      <td>47.000000</td>\n",
              "      <td>157.000000</td>\n",
              "      <td>254.000000</td>\n",
              "      <td>255.000000</td>\n",
              "      <td>255.000000</td>\n",
              "      <td>255.000000</td>\n",
              "      <td>255.000000</td>\n",
              "      <td>...</td>\n",
              "      <td>255.000000</td>\n",
              "      <td>255.000000</td>\n",
              "      <td>255.000000</td>\n",
              "      <td>255.000000</td>\n",
              "      <td>255.000000</td>\n",
              "      <td>255.000000</td>\n",
              "      <td>255.000000</td>\n",
              "      <td>253.000000</td>\n",
              "      <td>22.000000</td>\n",
              "      <td>0.0</td>\n",
              "      <td>0.0</td>\n",
              "      <td>0.0</td>\n",
              "      <td>0.0</td>\n",
              "      <td>0.0</td>\n",
              "      <td>0.0</td>\n",
              "      <td>0.0</td>\n",
              "      <td>0.0</td>\n",
              "      <td>177.000000</td>\n",
              "      <td>245.000000</td>\n",
              "      <td>255.000000</td>\n",
              "      <td>254.00000</td>\n",
              "      <td>254.000000</td>\n",
              "      <td>255.000000</td>\n",
              "      <td>255.000000</td>\n",
              "      <td>255.000000</td>\n",
              "      <td>255.000000</td>\n",
              "      <td>255.000000</td>\n",
              "      <td>254.000000</td>\n",
              "      <td>255.000000</td>\n",
              "      <td>255.000000</td>\n",
              "      <td>255.000000</td>\n",
              "      <td>254.000000</td>\n",
              "      <td>253.000000</td>\n",
              "      <td>253.000000</td>\n",
              "      <td>243.000000</td>\n",
              "      <td>62.000000</td>\n",
              "      <td>0.0</td>\n",
              "      <td>0.0</td>\n",
              "      <td>0.0</td>\n",
              "      <td>0.0</td>\n",
              "    </tr>\n",
              "  </tbody>\n",
              "</table>\n",
              "<p>8 rows × 784 columns</p>\n",
              "</div>"
            ],
            "text/plain": [
              "           0        1        2        3    ...      780      781      782      783\n",
              "count  49000.0  49000.0  49000.0  49000.0  ...  49000.0  49000.0  49000.0  49000.0\n",
              "mean       0.0      0.0      0.0      0.0  ...      0.0      0.0      0.0      0.0\n",
              "std        0.0      0.0      0.0      0.0  ...      0.0      0.0      0.0      0.0\n",
              "min        0.0      0.0      0.0      0.0  ...      0.0      0.0      0.0      0.0\n",
              "25%        0.0      0.0      0.0      0.0  ...      0.0      0.0      0.0      0.0\n",
              "50%        0.0      0.0      0.0      0.0  ...      0.0      0.0      0.0      0.0\n",
              "75%        0.0      0.0      0.0      0.0  ...      0.0      0.0      0.0      0.0\n",
              "max        0.0      0.0      0.0      0.0  ...      0.0      0.0      0.0      0.0\n",
              "\n",
              "[8 rows x 784 columns]"
            ]
          },
          "metadata": {
            "tags": []
          },
          "execution_count": 20
        }
      ]
    },
    {
      "cell_type": "markdown",
      "metadata": {
        "id": "n-yatUWO_zLD",
        "colab_type": "text"
      },
      "source": [
        "-> Some of the pixels have always an intensity of 0 (max=0) or 255 (min=255)"
      ]
    },
    {
      "cell_type": "code",
      "metadata": {
        "id": "fjp7_LSC_6HL",
        "colab_type": "code",
        "outputId": "5a3b4872-4347-47ae-8c17-ec432d6e5c48",
        "colab": {
          "base_uri": "https://localhost:8080/",
          "height": 284
        }
      },
      "source": [
        "plt.hist(pixels.iloc[0])\n",
        "plt.title(f\"Digit: {y_train[0]} Pixel Value Distribution\")\n",
        "plt.show()"
      ],
      "execution_count": 21,
      "outputs": [
        {
          "output_type": "display_data",
          "data": {
            "image/png": "[encoded data removed]",
            "text/plain": [
              "<Figure size 432x288 with 1 Axes>"
            ]
          },
          "metadata": {
            "tags": []
          }
        }
      ]
    },
    {
      "cell_type": "markdown",
      "metadata": {
        "id": "qs7Q62P1ACgG",
        "colab_type": "text"
      },
      "source": [
        "As expected, the pixel values range from 0 to 255: the background majority close to 0, and those close to 255 representing the digit."
      ]
    },
    {
      "cell_type": "markdown",
      "metadata": {
        "id": "CO0mXG8eAIk4",
        "colab_type": "text"
      },
      "source": [
        "**Examining the randomness of dataset**"
      ]
    },
    {
      "cell_type": "code",
      "metadata": {
        "id": "XpQF9EbTAKlo",
        "colab_type": "code",
        "outputId": "bc11fa24-5352-44cd-cff0-c5a8abb1913f",
        "colab": {
          "base_uri": "https://localhost:8080/",
          "height": 284
        }
      },
      "source": [
        "plt.scatter(list(range(400)),y_train[:400])\n",
        "plt.title('Scatter Plot')\n",
        "plt.show()"
      ],
      "execution_count": 22,
      "outputs": [
        {
          "output_type": "display_data",
          "data": {
            "image/png": "[encoded data removed]",
            "text/plain": [
              "<Figure size 432x288 with 1 Axes>"
            ]
          },
          "metadata": {
            "tags": []
          }
        }
      ]
    },
    {
      "cell_type": "markdown",
      "metadata": {
        "id": "nb--Vc4BAQwu",
        "colab_type": "text"
      },
      "source": [
        "Visualize the data with the help of one of the Dimensionality Reduction techniques, namely Principal Component Analysis (PCA)\n",
        "\n",
        "We keep two components to make sure to have two-dimensional data to plot. This is to investigate if the PCA reveals the distribution of the different labels and if you can clearly separate the instances from each other."
      ]
    },
    {
      "cell_type": "code",
      "metadata": {
        "id": "47s2LS-oAUuJ",
        "colab_type": "code",
        "outputId": "a11afba1-e715-47a6-af92-d05ed9025ed6",
        "colab": {
          "base_uri": "https://localhost:8080/",
          "height": 134
        }
      },
      "source": [
        "from sklearn.decomposition import PCA\n",
        "\n",
        "# Create a  PCA model that takes two components\n",
        "pca = PCA(n_components=2)\n",
        "\n",
        "# Fit and transform the data to the model\n",
        "reduced_data_pca = pca.fit_transform(pixels)\n",
        "\n",
        "# Inspect the shape\n",
        "reduced_data_pca.shape\n",
        "\n",
        "# Print out the data\n",
        "print(reduced_data_pca)"
      ],
      "execution_count": 23,
      "outputs": [
        {
          "output_type": "stream",
          "text": [
            "[[ 186.91256062  550.23434659]\n",
            " [-318.38660971  590.89348248]\n",
            " [-868.34980018 -223.79613209]\n",
            " ...\n",
            " [-320.17594246  484.75907688]\n",
            " [-152.30010914 -437.32765759]\n",
            " [ 853.23396546 -102.26747004]]\n"
          ],
          "name": "stdout"
        }
      ]
    },
    {
      "cell_type": "markdown",
      "metadata": {
        "id": "gWpoMt7XAbOv",
        "colab_type": "text"
      },
      "source": [
        "**Building a scatterplot to visualize the data:**"
      ]
    },
    {
      "cell_type": "code",
      "metadata": {
        "id": "lXPcRoiOAdQY",
        "colab_type": "code",
        "outputId": "a4067418-f96a-4331-d3b8-3bbb59967c47",
        "colab": {
          "base_uri": "https://localhost:8080/",
          "height": 301
        }
      },
      "source": [
        "from sklearn.decomposition import PCA\n",
        "\n",
        "colors = ['black', 'blue', 'purple', 'yellow', 'white', 'red', 'lime', 'cyan', 'orange', 'gray']\n",
        "for i in range(len(colors)):\n",
        "    x = reduced_data_pca[:, 0][y_train == i]\n",
        "    y = reduced_data_pca[:, 1][y_train == i]\n",
        "    plt.scatter(x, y, c=colors[i])\n",
        "plt.legend(sorted(train.label.unique()), bbox_to_anchor=(1.05, 1), loc=2, borderaxespad=0.)\n",
        "plt.xlabel('First Principal Component')\n",
        "plt.ylabel('Second Principal Component')\n",
        "plt.title(\"PCA Scatter Plot\")\n",
        "plt.show()"
      ],
      "execution_count": 24,
      "outputs": [
        {
          "output_type": "display_data",
          "data": {
            "image/png": "[encoded data removed]",
            "text/plain": [
              "<Figure size 432x288 with 1 Axes>"
            ]
          },
          "metadata": {
            "tags": []
          }
        }
      ]
    },
    {
      "cell_type": "markdown",
      "metadata": {
        "id": "1dv6Tbb7AkBT",
        "colab_type": "text"
      },
      "source": [
        "Now we have even more information about the data and have a visualization ready, it does seem a bit like the data points sort of group together, but you also see there is quite some overlap."
      ]
    },
    {
      "cell_type": "markdown",
      "metadata": {
        "id": "RJM_uadQAnjM",
        "colab_type": "text"
      },
      "source": [
        "**Feature Engineering**"
      ]
    },
    {
      "cell_type": "code",
      "metadata": {
        "id": "IYLrtfRq9jLk",
        "colab_type": "code",
        "colab": {}
      },
      "source": [
        "x_train = x_train.reshape(49000, 28,28,1)\n",
        "x_test = x_test.reshape(21000, 28,28, 1)"
      ],
      "execution_count": 0,
      "outputs": []
    },
    {
      "cell_type": "code",
      "metadata": {
        "id": "zW31alKqpef_",
        "colab_type": "code",
        "colab": {}
      },
      "source": [
        "# Converting data to higher precision\n",
        "x_train = x_train.astype('float32')\n",
        "x_test = x_test.astype('float32')"
      ],
      "execution_count": 0,
      "outputs": []
    },
    {
      "cell_type": "code",
      "metadata": {
        "id": "6UcdPE8Wo6ho",
        "colab_type": "code",
        "colab": {}
      },
      "source": [
        "# normalizing the data to help with the training\n",
        "x_train = x_train/255.0\n",
        "x_test = x_test/255.0"
      ],
      "execution_count": 0,
      "outputs": []
    },
    {
      "cell_type": "markdown",
      "metadata": {
        "id": "f9yUnY1AqEvu",
        "colab_type": "text"
      },
      "source": [
        "One hot Encoding using keras numpy-related utilities"
      ]
    },
    {
      "cell_type": "code",
      "metadata": {
        "id": "jr-kQgxCqDS6",
        "colab_type": "code",
        "outputId": "eaa29bfd-2f49-4e39-8753-d212d62432ef",
        "colab": {
          "base_uri": "https://localhost:8080/",
          "height": 50
        }
      },
      "source": [
        "print(\"Shape before one-hot encoding: \", y_train.shape)\n",
        "ytrain = to_categorical(y_train)\n",
        "print(\"Shape after one-hot encoding: \", ytrain.shape)"
      ],
      "execution_count": 28,
      "outputs": [
        {
          "output_type": "stream",
          "text": [
            "Shape before one-hot encoding:  (49000,)\n",
            "Shape after one-hot encoding:  (49000, 10)\n"
          ],
          "name": "stdout"
        }
      ]
    },
    {
      "cell_type": "code",
      "metadata": {
        "id": "k9umhB2xrsLb",
        "colab_type": "code",
        "outputId": "9a1718a9-549b-4038-b914-e4d67ac45c9b",
        "colab": {
          "base_uri": "https://localhost:8080/",
          "height": 67
        }
      },
      "source": [
        "#checking shape of training and test dataset\n",
        "print (\"x_train:=====> {}\".format(x_train.shape))\n",
        "print (\"ytrain:=====> {}\".format(ytrain.shape))\n",
        "print (\"x_test: =====> {}\".format(x_test.shape))"
      ],
      "execution_count": 29,
      "outputs": [
        {
          "output_type": "stream",
          "text": [
            "x_train:=====> (49000, 28, 28, 1)\n",
            "ytrain:=====> (49000, 10)\n",
            "x_test: =====> (21000, 28, 28, 1)\n"
          ],
          "name": "stdout"
        }
      ]
    },
    {
      "cell_type": "markdown",
      "metadata": {
        "id": "mw0QbJtIw8M9",
        "colab_type": "text"
      },
      "source": [
        "**Data Visualization**"
      ]
    },
    {
      "cell_type": "code",
      "metadata": {
        "id": "QM_F23zHvwEF",
        "colab_type": "code",
        "outputId": "637bca2d-178d-4b09-f155-55676d48c515",
        "colab": {
          "base_uri": "https://localhost:8080/",
          "height": 920
        }
      },
      "source": [
        "fig = plt.figure(figsize=(16,16))\n",
        "for i in range(1,10):\n",
        "  rand_num = random.randint(0,25000)\n",
        "  fig.add_subplot(3,3,i)\n",
        "  img_number = plt.imshow(x_train[rand_num][:,:,0],cmap='gray')"
      ],
      "execution_count": 30,
      "outputs": [
        {
          "output_type": "display_data",
          "data": {
            "image/png": "[encoded data removed]",
            "text/plain": [
              "<Figure size 1152x1152 with 9 Axes>"
            ]
          },
          "metadata": {
            "tags": []
          }
        }
      ]
    },
    {
      "cell_type": "markdown",
      "metadata": {
        "id": "CimwvY-_yTNy",
        "colab_type": "text"
      },
      "source": [
        "**Building the model**"
      ]
    },
    {
      "cell_type": "markdown",
      "metadata": {
        "id": "J6yeERBIybSV",
        "colab_type": "text"
      },
      "source": [
        "**Convolution Neural Networks**"
      ]
    },
    {
      "cell_type": "markdown",
      "metadata": {
        "id": "nEfxURzkCQIZ",
        "colab_type": "text"
      },
      "source": [
        "\n",
        "\n",
        "*  CNN is used for image classification, object detection\n",
        "\n",
        "   ![alt text](https://preview.ibb.co/nRkBpp/gec2.jpg)\n",
        "\n"
      ]
    },
    {
      "cell_type": "markdown",
      "metadata": {
        "id": "ATCFLEekD383",
        "colab_type": "text"
      },
      "source": [
        "**Create Model :-**\n",
        "1. conv => max pool => dropout => conv => max pool => dropout => fully  connected (2 layer)\n",
        "2. Dropout: Dropout is a technique where randomly selected neurons are ignored during training"
      ]
    },
    {
      "cell_type": "markdown",
      "metadata": {
        "id": "6F4RoVi_FEkE",
        "colab_type": "text"
      },
      "source": [
        "1. **Padding** :- Padding actually improves performance by keeping    information at the borders.\n",
        "2. **Max Pooling** :- It makes down-sampling or sub-sampling (Reduces the number of parameters)\n",
        "  \n",
        "  -It makes the detection of features invariant to scale or orientation changes.\n",
        "\n",
        "  -It reduce the amount of parameters and computation in the network, and hence to also control overfitting.\n",
        "3. **Flattening** :-\n",
        "\n",
        "     ![alt text](https://image.ibb.co/c7eVvU/flattenigng.jpg)"
      ]
    },
    {
      "cell_type": "code",
      "metadata": {
        "id": "xWlRwapGxuQ6",
        "colab_type": "code",
        "colab": {}
      },
      "source": [
        "# Initialising the CNN\n",
        "model = Sequential()\n",
        "\n",
        "# Step 1 - 1st Convolution Layer\n",
        "model.add(Convolution2D(28, (5,5), padding='same', input_shape=x_train.shape[1:]))\n",
        "model.add(Activation('relu'))\n",
        "model.add(BatchNormalization())\n",
        "model.add(Convolution2D(28,(5,5)))\n",
        "model.add(Activation('relu'))\n",
        "model.add(MaxPooling2D(pool_size=(2,2)))\n",
        "model.add(Dropout(0.25))\n",
        "\n",
        "\n",
        "# Step 2 - 2nd Convolution Layer\n",
        "model.add(Convolution2D(32,(5,5), padding='same', input_shape=x_train[1:]))\n",
        "model.add(Activation('relu'))\n",
        "model.add(BatchNormalization())\n",
        "model.add(Convolution2D(32,(5,5)))\n",
        "model.add(Activation('relu'))\n",
        "model.add(MaxPooling2D(pool_size=(2,2)))\n",
        "model.add(Dropout(0.25))\n",
        "\n",
        "# Step 3 - Fully Connected\n",
        "model.add(Flatten())\n",
        "model.add(Dense(512))\n",
        "model.add(Activation('relu'))\n",
        "model.add(Dropout(0.25))\n",
        "model.add(Dense(10))\n",
        "model.add(Activation('softmax'))"
      ],
      "execution_count": 0,
      "outputs": []
    },
    {
      "cell_type": "code",
      "metadata": {
        "id": "leOdz0LJ0nZj",
        "colab_type": "code",
        "outputId": "9c6e860e-de4d-432e-c3ec-991892ea1bf3",
        "colab": {
          "base_uri": "https://localhost:8080/",
          "height": 823
        }
      },
      "source": [
        "model.summary()"
      ],
      "execution_count": 32,
      "outputs": [
        {
          "output_type": "stream",
          "text": [
            "Model: \"sequential\"\n",
            "_________________________________________________________________\n",
            "Layer (type)                 Output Shape              Param #   \n",
            "=================================================================\n",
            "conv2d (Conv2D)              (None, 28, 28, 28)        728       \n",
            "_________________________________________________________________\n",
            "activation (Activation)      (None, 28, 28, 28)        0         \n",
            "_________________________________________________________________\n",
            "batch_normalization (BatchNo (None, 28, 28, 28)        112       \n",
            "_________________________________________________________________\n",
            "conv2d_1 (Conv2D)            (None, 24, 24, 28)        19628     \n",
            "_________________________________________________________________\n",
            "activation_1 (Activation)    (None, 24, 24, 28)        0         \n",
            "_________________________________________________________________\n",
            "max_pooling2d (MaxPooling2D) (None, 12, 12, 28)        0         \n",
            "_________________________________________________________________\n",
            "dropout (Dropout)            (None, 12, 12, 28)        0         \n",
            "_________________________________________________________________\n",
            "conv2d_2 (Conv2D)            (None, 12, 12, 32)        22432     \n",
            "_________________________________________________________________\n",
            "activation_2 (Activation)    (None, 12, 12, 32)        0         \n",
            "_________________________________________________________________\n",
            "batch_normalization_1 (Batch (None, 12, 12, 32)        128       \n",
            "_________________________________________________________________\n",
            "conv2d_3 (Conv2D)            (None, 8, 8, 32)          25632     \n",
            "_________________________________________________________________\n",
            "activation_3 (Activation)    (None, 8, 8, 32)          0         \n",
            "_________________________________________________________________\n",
            "max_pooling2d_1 (MaxPooling2 (None, 4, 4, 32)          0         \n",
            "_________________________________________________________________\n",
            "dropout_1 (Dropout)          (None, 4, 4, 32)          0         \n",
            "_________________________________________________________________\n",
            "flatten (Flatten)            (None, 512)               0         \n",
            "_________________________________________________________________\n",
            "dense (Dense)                (None, 512)               262656    \n",
            "_________________________________________________________________\n",
            "activation_4 (Activation)    (None, 512)               0         \n",
            "_________________________________________________________________\n",
            "dropout_2 (Dropout)          (None, 512)               0         \n",
            "_________________________________________________________________\n",
            "dense_1 (Dense)              (None, 10)                5130      \n",
            "_________________________________________________________________\n",
            "activation_5 (Activation)    (None, 10)                0         \n",
            "=================================================================\n",
            "Total params: 336,446\n",
            "Trainable params: 336,326\n",
            "Non-trainable params: 120\n",
            "_________________________________________________________________\n"
          ],
          "name": "stdout"
        }
      ]
    },
    {
      "cell_type": "markdown",
      "metadata": {
        "id": "RsnFGji_1qDO",
        "colab_type": "text"
      },
      "source": [
        "**Compliling the model**"
      ]
    },
    {
      "cell_type": "markdown",
      "metadata": {
        "id": "itLgCSItHHoD",
        "colab_type": "text"
      },
      "source": [
        "**Sgd Optimizer** :-\n",
        "1. It’s a variant of Gradient Descent.\n",
        "2. It tries to update the model’s parameters more frequently.\n",
        "3. Requires less memory as no need to store values of loss functions."
      ]
    },
    {
      "cell_type": "code",
      "metadata": {
        "id": "MVwcmMUM01mo",
        "colab_type": "code",
        "colab": {}
      },
      "source": [
        "optimizer = optimizers.sgd(lr=0.1, decay=0, momentum=0, nesterov=False) # lr->learning rate\n",
        "model.compile(optimizer='sgd',loss='categorical_crossentropy',metrics=['accuracy'])\n",
        "# we use categorical crossentropy because we multi class"
      ],
      "execution_count": 0,
      "outputs": []
    },
    {
      "cell_type": "markdown",
      "metadata": {
        "id": "2yzvAl5T26t8",
        "colab_type": "text"
      },
      "source": [
        "**Training the model**"
      ]
    },
    {
      "cell_type": "code",
      "metadata": {
        "id": "HbWf3VOQ187F",
        "colab_type": "code",
        "outputId": "5ba12f0a-f2da-4a62-d8ba-524f39ca6afe",
        "colab": {
          "base_uri": "https://localhost:8080/",
          "height": 353
        }
      },
      "source": [
        "history=model.fit(x_train,ytrain,epochs=10,validation_split=0.1,batch_size=30)"
      ],
      "execution_count": 34,
      "outputs": [
        {
          "output_type": "stream",
          "text": [
            "Epoch 1/10\n",
            "1470/1470 [==============================] - 237s 161ms/step - loss: 0.2539 - accuracy: 0.9181 - val_loss: 0.0681 - val_accuracy: 0.9763\n",
            "Epoch 2/10\n",
            "1470/1470 [==============================] - 233s 159ms/step - loss: 0.0919 - accuracy: 0.9718 - val_loss: 0.0427 - val_accuracy: 0.9857\n",
            "Epoch 3/10\n",
            "1470/1470 [==============================] - 234s 159ms/step - loss: 0.0672 - accuracy: 0.9785 - val_loss: 0.0504 - val_accuracy: 0.9843\n",
            "Epoch 4/10\n",
            "1470/1470 [==============================] - 228s 155ms/step - loss: 0.0530 - accuracy: 0.9833 - val_loss: 0.0328 - val_accuracy: 0.9894\n",
            "Epoch 5/10\n",
            "1470/1470 [==============================] - 232s 158ms/step - loss: 0.0461 - accuracy: 0.9857 - val_loss: 0.0296 - val_accuracy: 0.9902\n",
            "Epoch 6/10\n",
            "1470/1470 [==============================] - 242s 164ms/step - loss: 0.0410 - accuracy: 0.9869 - val_loss: 0.0288 - val_accuracy: 0.9908\n",
            "Epoch 7/10\n",
            "1470/1470 [==============================] - 237s 161ms/step - loss: 0.0376 - accuracy: 0.9877 - val_loss: 0.0286 - val_accuracy: 0.9888\n",
            "Epoch 8/10\n",
            "1470/1470 [==============================] - 244s 166ms/step - loss: 0.0360 - accuracy: 0.9889 - val_loss: 0.0235 - val_accuracy: 0.9910\n",
            "Epoch 9/10\n",
            "1470/1470 [==============================] - 235s 160ms/step - loss: 0.0329 - accuracy: 0.9891 - val_loss: 0.0253 - val_accuracy: 0.9906\n",
            "Epoch 10/10\n",
            "1470/1470 [==============================] - 231s 157ms/step - loss: 0.0286 - accuracy: 0.9906 - val_loss: 0.0209 - val_accuracy: 0.9929\n"
          ],
          "name": "stdout"
        }
      ]
    },
    {
      "cell_type": "markdown",
      "metadata": {
        "id": "39Q4gfxoBfi_",
        "colab_type": "text"
      },
      "source": [
        "**Evaluate the model**\n"
      ]
    },
    {
      "cell_type": "code",
      "metadata": {
        "id": "wQDAnBz6BVgI",
        "colab_type": "code",
        "outputId": "d5c9d2d9-7e0f-4732-94d4-14e2fdd5637d",
        "colab": {
          "base_uri": "https://localhost:8080/",
          "height": 284
        }
      },
      "source": [
        "# plot loss during training\n",
        "\n",
        "plt.title('Loss')\n",
        "plt.plot(history.epoch, history.history['loss'], label='Training Loss')\n",
        "plt.plot(history.epoch, history.history['val_loss'], label='Validation Loss')\n",
        "plt.legend(['loss','val_loss'])\n",
        "plt.grid('on')\n",
        "plt.show()"
      ],
      "execution_count": 35,
      "outputs": [
        {
          "output_type": "display_data",
          "data": {
            "image/png": "[encoded data removed]",
            "text/plain": [
              "<Figure size 432x288 with 1 Axes>"
            ]
          },
          "metadata": {
            "tags": []
          }
        }
      ]
    },
    {
      "cell_type": "code",
      "metadata": {
        "id": "JGZRf7StCSle",
        "colab_type": "code",
        "outputId": "003e8bf4-e362-407b-b5ec-992295ff6c39",
        "colab": {
          "base_uri": "https://localhost:8080/",
          "height": 284
        }
      },
      "source": [
        "# plot accuracy during training\n",
        "\n",
        "plt.title('Accuracy')\n",
        "plt.plot(history.epoch, history.history['accuracy'], label='Training Accuracy')\n",
        "plt.plot(history.epoch, history.history['val_accuracy'], label='Validation Accuracy')\n",
        "plt.legend(['accuracy','val_accuracy'])\n",
        "plt.grid('on')\n",
        "plt.show()"
      ],
      "execution_count": 36,
      "outputs": [
        {
          "output_type": "display_data",
          "data": {
            "image/png": "[encoded data removed]",
            "text/plain": [
              "<Figure size 432x288 with 1 Axes>"
            ]
          },
          "metadata": {
            "tags": []
          }
        }
      ]
    },
    {
      "cell_type": "code",
      "metadata": {
        "id": "otmpYR0eo32q",
        "colab_type": "code",
        "colab": {}
      },
      "source": [
        "# Saving the model\n",
        "model_json = model.to_json()\n",
        "with open(\"/content/drive/My Drive/Colab Notebooks/model1.json\",\"w\") as json_file:\n",
        "  json_file.write(model_json)\n",
        "# serialize weights to HDF5\n",
        "model.save('/content/drive/My Drive/Colab Notebooks/model1.h5')"
      ],
      "execution_count": 0,
      "outputs": []
    },
    {
      "cell_type": "markdown",
      "metadata": {
        "id": "kSl1iGYL8pND",
        "colab_type": "text"
      },
      "source": [
        "**Prediction**"
      ]
    },
    {
      "cell_type": "code",
      "metadata": {
        "id": "A-tLzaOolJd5",
        "colab_type": "code",
        "outputId": "3a44df75-3b9b-447e-a6de-3b3b58379184",
        "colab": {
          "base_uri": "https://localhost:8080/",
          "height": 302
        }
      },
      "source": [
        "result = model.predict(x_test)\n",
        "\n",
        "predicted_classes = np.argmax(np.round(result),axis=1)\n",
        "\n",
        "#Checking random predicted value if it's predicted correctly or not\n",
        "print(f'Actual label for 19682 observation is : {predicted_classes[19682]}')\n",
        "plt.imshow((tf.squeeze(x_test[19682])))"
      ],
      "execution_count": 39,
      "outputs": [
        {
          "output_type": "stream",
          "text": [
            "Actual label for 19682 observation is : 6\n"
          ],
          "name": "stdout"
        },
        {
          "output_type": "execute_result",
          "data": {
            "text/plain": [
              "<matplotlib.image.AxesImage at 0x7fb23ea0e240>"
            ]
          },
          "metadata": {
            "tags": []
          },
          "execution_count": 39
        },
        {
          "output_type": "display_data",
          "data": {
            "image/png": "[encoded data removed]",
            "text/plain": [
              "<Figure size 432x288 with 1 Axes>"
            ]
          },
          "metadata": {
            "tags": []
          }
        }
      ]
    },
    {
      "cell_type": "markdown",
      "metadata": {
        "id": "wtV7BxOjoAdY",
        "colab_type": "text"
      },
      "source": [
        "**Saving the test results to csv file**"
      ]
    },
    {
      "cell_type": "code",
      "metadata": {
        "id": "5-r9rd_llk-_",
        "colab_type": "code",
        "outputId": "788ba553-6f36-4786-a71b-9dba72f51132",
        "colab": {
          "base_uri": "https://localhost:8080/",
          "height": 195
        }
      },
      "source": [
        "predicted_classes=pd.DataFrame(predicted_classes)\n",
        "test_df=test.join(predicted_classes)\n",
        "test_df.columns=['filename','label']\n",
        "test_df.to_csv('/content/drive/My Drive/Colab Notebooks/Digits_Predictions_latest.csv',index=False)\n",
        "test_df.head()"
      ],
      "execution_count": 40,
      "outputs": [
        {
          "output_type": "execute_result",
          "data": {
            "text/html": [
              "<div>\n",
              "<style scoped>\n",
              "    .dataframe tbody tr th:only-of-type {\n",
              "        vertical-align: middle;\n",
              "    }\n",
              "\n",
              "    .dataframe tbody tr th {\n",
              "        vertical-align: top;\n",
              "    }\n",
              "\n",
              "    .dataframe thead th {\n",
              "        text-align: right;\n",
              "    }\n",
              "</style>\n",
              "<table border=\"1\" class=\"dataframe\">\n",
              "  <thead>\n",
              "    <tr style=\"text-align: right;\">\n",
              "      <th></th>\n",
              "      <th>filename</th>\n",
              "      <th>label</th>\n",
              "    </tr>\n",
              "  </thead>\n",
              "  <tbody>\n",
              "    <tr>\n",
              "      <th>0</th>\n",
              "      <td>49000.png</td>\n",
              "      <td>4</td>\n",
              "    </tr>\n",
              "    <tr>\n",
              "      <th>1</th>\n",
              "      <td>49001.png</td>\n",
              "      <td>0</td>\n",
              "    </tr>\n",
              "    <tr>\n",
              "      <th>2</th>\n",
              "      <td>49002.png</td>\n",
              "      <td>9</td>\n",
              "    </tr>\n",
              "    <tr>\n",
              "      <th>3</th>\n",
              "      <td>49003.png</td>\n",
              "      <td>7</td>\n",
              "    </tr>\n",
              "    <tr>\n",
              "      <th>4</th>\n",
              "      <td>49004.png</td>\n",
              "      <td>9</td>\n",
              "    </tr>\n",
              "  </tbody>\n",
              "</table>\n",
              "</div>"
            ],
            "text/plain": [
              "    filename  label\n",
              "0  49000.png      4\n",
              "1  49001.png      0\n",
              "2  49002.png      9\n",
              "3  49003.png      7\n",
              "4  49004.png      9"
            ]
          },
          "metadata": {
            "tags": []
          },
          "execution_count": 40
        }
      ]
    }
  ]
}